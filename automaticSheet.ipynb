{
  "nbformat": 4,
  "nbformat_minor": 0,
  "metadata": {
    "colab": {
      "provenance": [],
      "authorship_tag": "ABX9TyMJgP8l7XIroApSem/QcI73",
      "include_colab_link": true
    },
    "kernelspec": {
      "name": "python3",
      "display_name": "Python 3"
    },
    "language_info": {
      "name": "python"
    }
  },
  "cells": [
    {
      "cell_type": "markdown",
      "metadata": {
        "id": "view-in-github",
        "colab_type": "text"
      },
      "source": [
        "<a href=\"https://colab.research.google.com/github/cerisakkatchmart/PicklistCode2023-2024/blob/main/automaticSheet.ipynb\" target=\"_parent\"><img src=\"https://colab.research.google.com/assets/colab-badge.svg\" alt=\"Open In Colab\"/></a>"
      ]
    },
    {
      "cell_type": "code",
      "source": [
        "# imports libs needed to access data from google sheets\n",
        "import google.colab as colab\n",
        "import gspread\n",
        "import google.auth as gauth\n",
        "\n",
        "# sets up authentification\n",
        "colab.auth.authenticate_user()\n",
        "\n",
        "creds, _ = gauth.default()\n",
        "\n",
        "gc = gspread.authorize(creds)"
      ],
      "metadata": {
        "id": "yIXHpkGavXXo"
      },
      "execution_count": null,
      "outputs": []
    },
    {
      "cell_type": "code",
      "source": [
        "sheet_name = \"2023 Charged Up: Capital City Classic (Responses)\"\n",
        "temp_pg = \"temp\"\n",
        "\n",
        "sheet = gc.open(sheet_name)\n",
        "temp = sheet.worksheet(temp_pg)"
      ],
      "metadata": {
        "id": "pU55Yc4_vZzS"
      },
      "execution_count": null,
      "outputs": []
    },
    {
      "cell_type": "code",
      "execution_count": null,
      "metadata": {
        "id": "qr6CS4-Ku_eD"
      },
      "outputs": [],
      "source": [
        "# use to create pages for teams\n",
        "team_list = [8,253,649,701,766,841,846,852,1072,1425,1458,1671,1678,1967,2073,2135,2288,2251,2643,3189,3257,3482,3598,3859,4135,4159,4255,4643,4698,5027,5274,5458,5817,5924,5940,6059,6918,7137,7419,7528,8016,8768,9400,9634]\n",
        "\n",
        "#goes through list of teams\n",
        "for team in team_list:\n",
        "  try:\n",
        "    # finds existing page\n",
        "    dest_page = sheet.worksheet(str(team))\n",
        "    # deletes existing page\n",
        "    sheet.del_worksheet(dest_page)\n",
        "  except:\n",
        "    pass\n",
        "  # creates new page\n",
        "  dest_page = sheet.duplicate_sheet(temp.id,new_sheet_name=str(team),insert_sheet_index=99999)\n",
        "  filt_form = \"=FILTER(CCC!A2:AF,CCC!E2:E = {})\".format(team)\n",
        "  dest_page.update('A3',filt_form,value_input_option='USER_ENTERED')\n"
      ]
    }
  ]
}